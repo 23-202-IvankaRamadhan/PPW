{
 "cells": [
  {
   "cell_type": "markdown",
   "id": "21501d2f",
   "metadata": {},
   "source": [
    "# Crawling"
   ]
  },
  {
   "cell_type": "code",
   "execution_count": 1,
   "id": "d4e02ab6",
   "metadata": {},
   "outputs": [
    {
     "name": "stdout",
     "output_type": "stream",
     "text": [
      "Defaulting to user installation because normal site-packages is not writeable\n",
      "Collecting sprynger\n",
      "  Downloading sprynger-0.4.1-py3-none-any.whl.metadata (5.8 kB)\n",
      "Requirement already satisfied: lxml in c:\\users\\ivanka ramadhan\\appdata\\roaming\\python\\python313\\site-packages (from sprynger) (5.3.1)\n",
      "Requirement already satisfied: requests in c:\\users\\ivanka ramadhan\\appdata\\roaming\\python\\python313\\site-packages (from sprynger) (2.32.3)\n",
      "Requirement already satisfied: urllib3 in c:\\users\\ivanka ramadhan\\appdata\\roaming\\python\\python313\\site-packages (from sprynger) (2.3.0)\n",
      "Requirement already satisfied: platformdirs in c:\\users\\ivanka ramadhan\\appdata\\roaming\\python\\python313\\site-packages (from sprynger) (4.3.6)\n",
      "Requirement already satisfied: charset-normalizer<4,>=2 in c:\\users\\ivanka ramadhan\\appdata\\roaming\\python\\python313\\site-packages (from requests->sprynger) (3.4.1)\n",
      "Requirement already satisfied: idna<4,>=2.5 in c:\\users\\ivanka ramadhan\\appdata\\roaming\\python\\python313\\site-packages (from requests->sprynger) (3.10)\n",
      "Requirement already satisfied: certifi>=2017.4.17 in c:\\users\\ivanka ramadhan\\appdata\\roaming\\python\\python313\\site-packages (from requests->sprynger) (2025.1.31)\n",
      "Downloading sprynger-0.4.1-py3-none-any.whl (40 kB)\n",
      "Installing collected packages: sprynger\n",
      "Successfully installed sprynger-0.4.1\n",
      "Note: you may need to restart the kernel to use updated packages.\n"
     ]
    }
   ],
   "source": [
    "pip install sprynger"
   ]
  },
  {
   "cell_type": "code",
   "execution_count": 2,
   "id": "f775b997",
   "metadata": {},
   "outputs": [
    {
     "name": "stdout",
     "output_type": "stream",
     "text": [
      "Mencari data untuk kata kunci: web mining...\n",
      "Error saat melakukan permintaan: 404 Client Error: Not Found for url: https://www.springernature.com/search?query=web%20mining\n",
      "Mencari data untuk kata kunci: web usage mining...\n",
      "Error saat melakukan permintaan: 404 Client Error: Not Found for url: https://www.springernature.com/search?query=web%20usage%20mining\n",
      "Mencari data untuk kata kunci: data mining...\n",
      "Error saat melakukan permintaan: 404 Client Error: Not Found for url: https://www.springernature.com/search?query=data%20mining\n",
      "Tidak ada data yang ditemukan untuk disimpan.\n"
     ]
    }
   ],
   "source": [
    "import requests\n",
    "from bs4 import BeautifulSoup\n",
    "import csv\n",
    "\n",
    "def crawl_springer_nature(keyword):\n",
    "    # Buat URL pencarian dengan kata kunci\n",
    "    base_url = \"https://www.springernature.com/gp/librarians/products/journals/nature-research-journals/nature-reviews\"\n",
    "    search_url = f\"https://www.springernature.com/search?query={keyword}\" #ini contoh, perlu disesuaikan dengan URL yang sebenarnya\n",
    "\n",
    "    try:\n",
    "        response = requests.get(search_url)\n",
    "        response.raise_for_status() # Cek jika ada error HTTP\n",
    "\n",
    "        soup = BeautifulSoup(response.text, 'html.parser')\n",
    "        # Temukan elemen yang berisi informasi jurnal (misal, judul, penulis, dll)\n",
    "        # Ini tergantung pada struktur HTML dari situs\n",
    "        articles = soup.find_all('div', class_='article-item') # class ini hanyalah contoh\n",
    "\n",
    "        data = []\n",
    "        for article in articles:\n",
    "            title = article.find('h2').text.strip()\n",
    "            author = article.find('span', class_='author-name').text.strip()\n",
    "            # Lakukan ekstraksi data lain yang relevan\n",
    "            data.append({'title': title, 'author': author, 'keyword': keyword})\n",
    "\n",
    "        return data\n",
    "    except requests.exceptions.RequestException as e:\n",
    "        print(f\"Error saat melakukan permintaan: {e}\")\n",
    "        return None\n",
    "\n",
    "# Variasi kata kunci\n",
    "keywords = ['web mining', 'web usage mining', 'data mining']\n",
    "\n",
    "all_data = []\n",
    "for keyword in keywords:\n",
    "    print(f\"Mencari data untuk kata kunci: {keyword}...\")\n",
    "    results = crawl_springer_nature(keyword)\n",
    "    if results:\n",
    "        all_data.extend(results)\n",
    "\n",
    "# Simpan data ke file CSV\n",
    "csv_filename = 'springer_nature_results.csv'\n",
    "if all_data:\n",
    "    with open(csv_filename, 'w', newline='', encoding='utf-8') as csvfile:\n",
    "        fieldnames = ['title', 'author', 'keyword'] # Nama kolom di CSV\n",
    "        writer = csv.DictWriter(csvfile, fieldnames=fieldnames)\n",
    "\n",
    "        writer.writeheader()\n",
    "        writer.writerows(all_data)\n",
    "\n",
    "    print(f\"Data berhasil disimpan ke {csv_filename}\")\n",
    "else:\n",
    "    print(\"Tidak ada data yang ditemukan untuk disimpan.\")"
   ]
  }
 ],
 "metadata": {
  "kernelspec": {
   "display_name": "Python 3",
   "language": "python",
   "name": "python3"
  },
  "language_info": {
   "codemirror_mode": {
    "name": "ipython",
    "version": 3
   },
   "file_extension": ".py",
   "mimetype": "text/x-python",
   "name": "python",
   "nbconvert_exporter": "python",
   "pygments_lexer": "ipython3",
   "version": "3.13.7"
  }
 },
 "nbformat": 4,
 "nbformat_minor": 5
}
